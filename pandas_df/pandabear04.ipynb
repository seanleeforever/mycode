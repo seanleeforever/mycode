{
 "cells": [
  {
   "cell_type": "code",
   "execution_count": 1,
   "id": "118985cc-2a71-4b5b-9f87-af411982da27",
   "metadata": {
    "tags": []
   },
   "outputs": [],
   "source": [
    "# python3 -m pip install pandas\n",
    "import pandas as pd"
   ]
  },
  {
   "cell_type": "code",
   "execution_count": 3,
   "id": "3454db8a-a8a6-4ddb-aaec-e371eb94e6ea",
   "metadata": {
    "tags": []
   },
   "outputs": [
    {
     "data": {
      "text/html": [
       "<div>\n",
       "<style scoped>\n",
       "    .dataframe tbody tr th:only-of-type {\n",
       "        vertical-align: middle;\n",
       "    }\n",
       "\n",
       "    .dataframe tbody tr th {\n",
       "        vertical-align: top;\n",
       "    }\n",
       "\n",
       "    .dataframe thead th {\n",
       "        text-align: right;\n",
       "    }\n",
       "</style>\n",
       "<table border=\"1\" class=\"dataframe\">\n",
       "  <thead>\n",
       "    <tr style=\"text-align: right;\">\n",
       "      <th></th>\n",
       "      <th>device</th>\n",
       "      <th>serial</th>\n",
       "      <th>ip</th>\n",
       "      <th>region</th>\n",
       "      <th>firmware</th>\n",
       "    </tr>\n",
       "  </thead>\n",
       "  <tbody>\n",
       "    <tr>\n",
       "      <th>0</th>\n",
       "      <td>ciscoios</td>\n",
       "      <td>C8293-928F</td>\n",
       "      <td>192.168.70.1</td>\n",
       "      <td>northeast</td>\n",
       "      <td>v14.6</td>\n",
       "    </tr>\n",
       "    <tr>\n",
       "      <th>1</th>\n",
       "      <td>ciscoiosxr</td>\n",
       "      <td>A7392-123D</td>\n",
       "      <td>10.0.0.1</td>\n",
       "      <td>northeast</td>\n",
       "      <td>v1.2</td>\n",
       "    </tr>\n",
       "    <tr>\n",
       "      <th>2</th>\n",
       "      <td>ciscoiosxe</td>\n",
       "      <td>C8233-593A</td>\n",
       "      <td>172.6.2.11</td>\n",
       "      <td>southwest</td>\n",
       "      <td>v3.2</td>\n",
       "    </tr>\n",
       "    <tr>\n",
       "      <th>3</th>\n",
       "      <td>cisconxos</td>\n",
       "      <td>B1122-938A</td>\n",
       "      <td>172.4.2.11</td>\n",
       "      <td>south</td>\n",
       "      <td>v1.2</td>\n",
       "    </tr>\n",
       "    <tr>\n",
       "      <th>4</th>\n",
       "      <td>ciscoios</td>\n",
       "      <td>C2832-23dB</td>\n",
       "      <td>192.168.102.1</td>\n",
       "      <td>west</td>\n",
       "      <td>v14.6</td>\n",
       "    </tr>\n",
       "    <tr>\n",
       "      <th>5</th>\n",
       "      <td>ciscoiosxr</td>\n",
       "      <td>C9878-323F</td>\n",
       "      <td>10.3.3.1</td>\n",
       "      <td>west</td>\n",
       "      <td>v1.2</td>\n",
       "    </tr>\n",
       "    <tr>\n",
       "      <th>6</th>\n",
       "      <td>ciscoiosxr</td>\n",
       "      <td>C7673-664E</td>\n",
       "      <td>10.66.7.1</td>\n",
       "      <td>north</td>\n",
       "      <td>v1.2</td>\n",
       "    </tr>\n",
       "  </tbody>\n",
       "</table>\n",
       "</div>"
      ],
      "text/plain": [
       "       device      serial             ip     region firmware\n",
       "0    ciscoios  C8293-928F   192.168.70.1  northeast    v14.6\n",
       "1  ciscoiosxr  A7392-123D       10.0.0.1  northeast     v1.2\n",
       "2  ciscoiosxe  C8233-593A     172.6.2.11  southwest     v3.2\n",
       "3   cisconxos  B1122-938A     172.4.2.11      south     v1.2\n",
       "4    ciscoios  C2832-23dB  192.168.102.1       west    v14.6\n",
       "5  ciscoiosxr  C9878-323F       10.3.3.1       west     v1.2\n",
       "6  ciscoiosxr  C7673-664E      10.66.7.1      north     v1.2"
      ]
     },
     "execution_count": 3,
     "metadata": {},
     "output_type": "execute_result"
    }
   ],
   "source": [
    "# create a dataframe ciscocsv\n",
    "# create a dataframe ciscocsv\n",
    "ciscocsv = pd.read_csv(\"~/mycode/pandas_df/ciscodata.csv\")\n",
    "# create a dataframe ciscojson\n",
    "ciscojson = pd.read_json(\"~/mycode/pandas_df/ciscodata2.json\")\n",
    "# The line below concats and reapplies the index value\n",
    "ciscodf = pd.concat([ciscocsv,ciscojson], ignore_index=True, sort=False)\n",
    "## print to the screen the re-indexed dataframe\n",
    "ciscodf\n"
   ]
  },
  {
   "cell_type": "code",
   "execution_count": 4,
   "id": "5724c0c8-fb11-4929-bc1d-be1ec87a3f1c",
   "metadata": {
    "tags": []
   },
   "outputs": [],
   "source": [
    "# export to JSON\n",
    "ciscodf.to_json(\"combined_ciscodata.json\")"
   ]
  },
  {
   "cell_type": "code",
   "execution_count": 5,
   "id": "a766508c-d666-4a8e-a7aa-af294215572b",
   "metadata": {
    "tags": []
   },
   "outputs": [],
   "source": [
    "## export to csv\n",
    "ciscodf.to_csv(\"combined_ciscodata.csv\")"
   ]
  },
  {
   "cell_type": "code",
   "execution_count": 7,
   "id": "3ac8f6d7-808f-4872-b56f-bdb1092c6b63",
   "metadata": {
    "tags": []
   },
   "outputs": [],
   "source": [
    "## export to Excel\n",
    "ciscodf.to_excel(\"combined_ciscodata.xlsx\")"
   ]
  },
  {
   "cell_type": "code",
   "execution_count": 8,
   "id": "cc4999d2-2c15-46ac-a234-ef648343a59f",
   "metadata": {
    "tags": []
   },
   "outputs": [
    {
     "data": {
      "text/plain": [
       "{'device': {0: 'ciscoios',\n",
       "  1: 'ciscoiosxr',\n",
       "  2: 'ciscoiosxe',\n",
       "  3: 'cisconxos',\n",
       "  4: 'ciscoios',\n",
       "  5: 'ciscoiosxr',\n",
       "  6: 'ciscoiosxr'},\n",
       " 'serial': {0: 'C8293-928F',\n",
       "  1: 'A7392-123D',\n",
       "  2: 'C8233-593A',\n",
       "  3: 'B1122-938A',\n",
       "  4: 'C2832-23dB',\n",
       "  5: 'C9878-323F',\n",
       "  6: 'C7673-664E'},\n",
       " 'ip': {0: '192.168.70.1',\n",
       "  1: '10.0.0.1',\n",
       "  2: '172.6.2.11',\n",
       "  3: '172.4.2.11',\n",
       "  4: '192.168.102.1',\n",
       "  5: '10.3.3.1',\n",
       "  6: '10.66.7.1'},\n",
       " 'region': {0: 'northeast',\n",
       "  1: 'northeast',\n",
       "  2: 'southwest',\n",
       "  3: 'south',\n",
       "  4: 'west',\n",
       "  5: 'west',\n",
       "  6: 'north'},\n",
       " 'firmware': {0: 'v14.6',\n",
       "  1: 'v1.2',\n",
       "  2: 'v3.2',\n",
       "  3: 'v1.2',\n",
       "  4: 'v14.6',\n",
       "  5: 'v1.2',\n",
       "  6: 'v1.2'}}"
      ]
     },
     "execution_count": 8,
     "metadata": {},
     "output_type": "execute_result"
    }
   ],
   "source": [
    "## create a python dictionary\n",
    "x = ciscodf.to_dict()\n",
    "x"
   ]
  },
  {
   "cell_type": "code",
   "execution_count": null,
   "id": "33568888-85ba-40b2-8ab5-0cc986cf5070",
   "metadata": {},
   "outputs": [],
   "source": []
  }
 ],
 "metadata": {
  "kernelspec": {
   "display_name": "Python 3 (ipykernel)",
   "language": "python",
   "name": "python3"
  },
  "language_info": {
   "codemirror_mode": {
    "name": "ipython",
    "version": 3
   },
   "file_extension": ".py",
   "mimetype": "text/x-python",
   "name": "python",
   "nbconvert_exporter": "python",
   "pygments_lexer": "ipython3",
   "version": "3.10.6"
  }
 },
 "nbformat": 4,
 "nbformat_minor": 5
}
