{
 "cells": [
  {
   "cell_type": "code",
   "execution_count": 1,
   "id": "d4f38467-0b13-45f3-b57a-7dc0a9bc2fd1",
   "metadata": {
    "tags": []
   },
   "outputs": [],
   "source": [
    "# import pandas\n",
    "import pandas as pd\n",
    "\n",
    "\n",
    "# create some test data\n",
    "metric_data = [{'cluster': 'alphaCloud',\n",
    "                'power': 'on',\n",
    "                'domain': 'vmware.local',\n",
    "                'policy_name': 'MetricSEARCH',\n",
    "                'status': True,\n",
    "                'vserver': 'vmWare32'},\n",
    "                {'cluster': 'alphaCloud',\n",
    "                'power': 'off',\n",
    "                'domain': 'vmware.local',\n",
    "                'policy_name': 'MetricSEARCH',\n",
    "                'status': False,\n",
    "                'vserver': 'vmWare04'},\n",
    "                {'cluster': 'betaCloud',\n",
    "                'power': 'on',\n",
    "                'domain': 'vmware.local',\n",
    "                'policy_name': 'MetricSEARCH',\n",
    "                'status': 'on',\n",
    "                'vserver': 'vmWare20'},\n",
    "                {'cluster': 'betaCloud',\n",
    "                'power': 'on',\n",
    "                'domain': 'vmware.local',\n",
    "                'policy_name': 'MetricSEARCH',\n",
    "                'status': 'on',\n",
    "                'vserver': 'vmWare06'},\n",
    "                {'cluster': 'AWS',\n",
    "                'power': 'off',\n",
    "                'domain': 'acme.aws.example',\n",
    "                'policy_name': 'MetricSEARCH',\n",
    "                'status': True,\n",
    "                'vserver': 'AWS_vm007'}]\n"
   ]
  },
  {
   "cell_type": "code",
   "execution_count": 2,
   "id": "fa03e37f-bd7d-4ce5-8e88-f0ebf6a96f40",
   "metadata": {
    "tags": []
   },
   "outputs": [
    {
     "data": {
      "text/html": [
       "<div>\n",
       "<style scoped>\n",
       "    .dataframe tbody tr th:only-of-type {\n",
       "        vertical-align: middle;\n",
       "    }\n",
       "\n",
       "    .dataframe tbody tr th {\n",
       "        vertical-align: top;\n",
       "    }\n",
       "\n",
       "    .dataframe thead th {\n",
       "        text-align: right;\n",
       "    }\n",
       "</style>\n",
       "<table border=\"1\" class=\"dataframe\">\n",
       "  <thead>\n",
       "    <tr style=\"text-align: right;\">\n",
       "      <th></th>\n",
       "      <th>cluster</th>\n",
       "      <th>power</th>\n",
       "      <th>domain</th>\n",
       "      <th>policy_name</th>\n",
       "      <th>status</th>\n",
       "      <th>vserver</th>\n",
       "    </tr>\n",
       "  </thead>\n",
       "  <tbody>\n",
       "    <tr>\n",
       "      <th>0</th>\n",
       "      <td>alphaCloud</td>\n",
       "      <td>on</td>\n",
       "      <td>vmware.local</td>\n",
       "      <td>MetricSEARCH</td>\n",
       "      <td>True</td>\n",
       "      <td>vmWare32</td>\n",
       "    </tr>\n",
       "    <tr>\n",
       "      <th>1</th>\n",
       "      <td>alphaCloud</td>\n",
       "      <td>off</td>\n",
       "      <td>vmware.local</td>\n",
       "      <td>MetricSEARCH</td>\n",
       "      <td>False</td>\n",
       "      <td>vmWare04</td>\n",
       "    </tr>\n",
       "    <tr>\n",
       "      <th>2</th>\n",
       "      <td>betaCloud</td>\n",
       "      <td>on</td>\n",
       "      <td>vmware.local</td>\n",
       "      <td>MetricSEARCH</td>\n",
       "      <td>on</td>\n",
       "      <td>vmWare20</td>\n",
       "    </tr>\n",
       "    <tr>\n",
       "      <th>3</th>\n",
       "      <td>betaCloud</td>\n",
       "      <td>on</td>\n",
       "      <td>vmware.local</td>\n",
       "      <td>MetricSEARCH</td>\n",
       "      <td>on</td>\n",
       "      <td>vmWare06</td>\n",
       "    </tr>\n",
       "    <tr>\n",
       "      <th>4</th>\n",
       "      <td>AWS</td>\n",
       "      <td>off</td>\n",
       "      <td>acme.aws.example</td>\n",
       "      <td>MetricSEARCH</td>\n",
       "      <td>True</td>\n",
       "      <td>AWS_vm007</td>\n",
       "    </tr>\n",
       "  </tbody>\n",
       "</table>\n",
       "</div>"
      ],
      "text/plain": [
       "      cluster power            domain   policy_name status    vserver\n",
       "0  alphaCloud    on      vmware.local  MetricSEARCH   True   vmWare32\n",
       "1  alphaCloud   off      vmware.local  MetricSEARCH  False   vmWare04\n",
       "2   betaCloud    on      vmware.local  MetricSEARCH     on   vmWare20\n",
       "3   betaCloud    on      vmware.local  MetricSEARCH     on   vmWare06\n",
       "4         AWS   off  acme.aws.example  MetricSEARCH   True  AWS_vm007"
      ]
     },
     "execution_count": 2,
     "metadata": {},
     "output_type": "execute_result"
    }
   ],
   "source": [
    "mydf = pd.DataFrame(metric_data)\n",
    "mydf"
   ]
  },
  {
   "cell_type": "code",
   "execution_count": 3,
   "id": "b92fb6ce-3ba1-4c2e-85d3-312a27c92aeb",
   "metadata": {
    "tags": []
   },
   "outputs": [
    {
     "data": {
      "text/html": [
       "<div>\n",
       "<style scoped>\n",
       "    .dataframe tbody tr th:only-of-type {\n",
       "        vertical-align: middle;\n",
       "    }\n",
       "\n",
       "    .dataframe tbody tr th {\n",
       "        vertical-align: top;\n",
       "    }\n",
       "\n",
       "    .dataframe thead th {\n",
       "        text-align: right;\n",
       "    }\n",
       "</style>\n",
       "<table border=\"1\" class=\"dataframe\">\n",
       "  <thead>\n",
       "    <tr style=\"text-align: right;\">\n",
       "      <th></th>\n",
       "      <th>cluster</th>\n",
       "      <th>power</th>\n",
       "      <th>domain</th>\n",
       "      <th>policy_name</th>\n",
       "      <th>status</th>\n",
       "      <th>vserver</th>\n",
       "    </tr>\n",
       "  </thead>\n",
       "  <tbody>\n",
       "    <tr>\n",
       "      <th>0</th>\n",
       "      <td>alphaCloud</td>\n",
       "      <td>on</td>\n",
       "      <td>vmware.local</td>\n",
       "      <td>metricsearch</td>\n",
       "      <td>True</td>\n",
       "      <td>vmWare32</td>\n",
       "    </tr>\n",
       "    <tr>\n",
       "      <th>1</th>\n",
       "      <td>alphaCloud</td>\n",
       "      <td>off</td>\n",
       "      <td>vmware.local</td>\n",
       "      <td>metricsearch</td>\n",
       "      <td>False</td>\n",
       "      <td>vmWare04</td>\n",
       "    </tr>\n",
       "    <tr>\n",
       "      <th>2</th>\n",
       "      <td>betaCloud</td>\n",
       "      <td>on</td>\n",
       "      <td>vmware.local</td>\n",
       "      <td>metricsearch</td>\n",
       "      <td>on</td>\n",
       "      <td>vmWare20</td>\n",
       "    </tr>\n",
       "    <tr>\n",
       "      <th>3</th>\n",
       "      <td>betaCloud</td>\n",
       "      <td>on</td>\n",
       "      <td>vmware.local</td>\n",
       "      <td>metricsearch</td>\n",
       "      <td>on</td>\n",
       "      <td>vmWare06</td>\n",
       "    </tr>\n",
       "    <tr>\n",
       "      <th>4</th>\n",
       "      <td>AWS</td>\n",
       "      <td>off</td>\n",
       "      <td>acme.aws.example</td>\n",
       "      <td>metricsearch</td>\n",
       "      <td>True</td>\n",
       "      <td>AWS_vm007</td>\n",
       "    </tr>\n",
       "  </tbody>\n",
       "</table>\n",
       "</div>"
      ],
      "text/plain": [
       "      cluster power            domain   policy_name status    vserver\n",
       "0  alphaCloud    on      vmware.local  metricsearch   True   vmWare32\n",
       "1  alphaCloud   off      vmware.local  metricsearch  False   vmWare04\n",
       "2   betaCloud    on      vmware.local  metricsearch     on   vmWare20\n",
       "3   betaCloud    on      vmware.local  metricsearch     on   vmWare06\n",
       "4         AWS   off  acme.aws.example  metricsearch   True  AWS_vm007"
      ]
     },
     "execution_count": 3,
     "metadata": {},
     "output_type": "execute_result"
    }
   ],
   "source": [
    "# transform the column \"policy_name\" so that it is all lowercase\n",
    "mydf ['policy_name'] = mydf['policy_name'].apply(lambda x: x.lower())\n",
    "mydf"
   ]
  },
  {
   "cell_type": "code",
   "execution_count": 4,
   "id": "d025a3f8-58cb-464b-a0c2-b2f274722dcf",
   "metadata": {
    "tags": []
   },
   "outputs": [
    {
     "data": {
      "text/html": [
       "<div>\n",
       "<style scoped>\n",
       "    .dataframe tbody tr th:only-of-type {\n",
       "        vertical-align: middle;\n",
       "    }\n",
       "\n",
       "    .dataframe tbody tr th {\n",
       "        vertical-align: top;\n",
       "    }\n",
       "\n",
       "    .dataframe thead th {\n",
       "        text-align: right;\n",
       "    }\n",
       "</style>\n",
       "<table border=\"1\" class=\"dataframe\">\n",
       "  <thead>\n",
       "    <tr style=\"text-align: right;\">\n",
       "      <th></th>\n",
       "      <th>cluster</th>\n",
       "      <th>power</th>\n",
       "      <th>domain</th>\n",
       "      <th>policy_name</th>\n",
       "      <th>status</th>\n",
       "      <th>vserver</th>\n",
       "    </tr>\n",
       "  </thead>\n",
       "  <tbody>\n",
       "    <tr>\n",
       "      <th>0</th>\n",
       "      <td>alphaCloud</td>\n",
       "      <td>on</td>\n",
       "      <td>vmware.local</td>\n",
       "      <td>metricsearch</td>\n",
       "      <td>True</td>\n",
       "      <td>vmWare32</td>\n",
       "    </tr>\n",
       "    <tr>\n",
       "      <th>1</th>\n",
       "      <td>alphaCloud</td>\n",
       "      <td>off</td>\n",
       "      <td>vmware.local</td>\n",
       "      <td>metricsearch</td>\n",
       "      <td>False</td>\n",
       "      <td>vmWare04</td>\n",
       "    </tr>\n",
       "    <tr>\n",
       "      <th>2</th>\n",
       "      <td>betaCloud</td>\n",
       "      <td>on</td>\n",
       "      <td>vmware.local</td>\n",
       "      <td>metricsearch</td>\n",
       "      <td>on</td>\n",
       "      <td>vmWare20</td>\n",
       "    </tr>\n",
       "    <tr>\n",
       "      <th>3</th>\n",
       "      <td>betaCloud</td>\n",
       "      <td>on</td>\n",
       "      <td>vmware.local</td>\n",
       "      <td>metricsearch</td>\n",
       "      <td>on</td>\n",
       "      <td>vmWare06</td>\n",
       "    </tr>\n",
       "    <tr>\n",
       "      <th>4</th>\n",
       "      <td>AWS</td>\n",
       "      <td>off</td>\n",
       "      <td>acme.aws.example</td>\n",
       "      <td>metricsearch</td>\n",
       "      <td>True</td>\n",
       "      <td>AWS_vm007</td>\n",
       "    </tr>\n",
       "  </tbody>\n",
       "</table>\n",
       "</div>"
      ],
      "text/plain": [
       "      cluster power            domain   policy_name status    vserver\n",
       "0  alphaCloud    on      vmware.local  metricsearch   True   vmWare32\n",
       "1  alphaCloud   off      vmware.local  metricsearch  False   vmWare04\n",
       "2   betaCloud    on      vmware.local  metricsearch     on   vmWare20\n",
       "3   betaCloud    on      vmware.local  metricsearch     on   vmWare06\n",
       "4         AWS   off  acme.aws.example  metricsearch   True  AWS_vm007"
      ]
     },
     "execution_count": 4,
     "metadata": {},
     "output_type": "execute_result"
    }
   ],
   "source": [
    "# this is a \"shallow copy\"\n",
    "# the result is that changes to mydf will be reflected in df2\n",
    "# df2 is essentially a pointer to mydf\n",
    "df2 = mydf\n",
    "# df2 does look like a copy of mydf, but it is a SHALLOW copy\n",
    "# shallow copies are essentially still connected to the reference obeject, or mydf in this case\n",
    "df2\n"
   ]
  },
  {
   "cell_type": "code",
   "execution_count": 5,
   "id": "ba797362-e9f8-4283-a5d7-0c6ab559befb",
   "metadata": {
    "tags": []
   },
   "outputs": [
    {
     "data": {
      "text/plain": [
       "True"
      ]
     },
     "execution_count": 5,
     "metadata": {},
     "output_type": "execute_result"
    }
   ],
   "source": [
    "df2 is mydf\n"
   ]
  },
  {
   "cell_type": "code",
   "execution_count": 6,
   "id": "d106de49-e606-400c-a873-191afab56a0b",
   "metadata": {
    "tags": []
   },
   "outputs": [
    {
     "data": {
      "text/plain": [
       "140720124231200"
      ]
     },
     "execution_count": 6,
     "metadata": {},
     "output_type": "execute_result"
    }
   ],
   "source": [
    "id(df2)"
   ]
  },
  {
   "cell_type": "code",
   "execution_count": 7,
   "id": "2df5a9cd-1e23-4aad-b84d-a8c8e71db960",
   "metadata": {
    "tags": []
   },
   "outputs": [
    {
     "data": {
      "text/plain": [
       "140720124231200"
      ]
     },
     "execution_count": 7,
     "metadata": {},
     "output_type": "execute_result"
    }
   ],
   "source": [
    "id(mydf)"
   ]
  },
  {
   "cell_type": "code",
   "execution_count": 8,
   "id": "5a9265f3-03e2-4191-a46c-aee0b3015a2a",
   "metadata": {
    "tags": []
   },
   "outputs": [
    {
     "data": {
      "text/plain": [
       "140719300130032"
      ]
     },
     "execution_count": 8,
     "metadata": {},
     "output_type": "execute_result"
    }
   ],
   "source": [
    "# remove record 04 using .drop()\n",
    "# axis=0 means \"row\"\n",
    "# axis=1 means \"column\"\n",
    "mydf = mydf.drop(labels=4, axis=0)\n",
    "mydf\n",
    "id(mydf)"
   ]
  },
  {
   "cell_type": "code",
   "execution_count": 9,
   "id": "f5890ca7-5d51-4771-946e-fa9d6e89c011",
   "metadata": {
    "tags": []
   },
   "outputs": [
    {
     "data": {
      "text/html": [
       "<div>\n",
       "<style scoped>\n",
       "    .dataframe tbody tr th:only-of-type {\n",
       "        vertical-align: middle;\n",
       "    }\n",
       "\n",
       "    .dataframe tbody tr th {\n",
       "        vertical-align: top;\n",
       "    }\n",
       "\n",
       "    .dataframe thead th {\n",
       "        text-align: right;\n",
       "    }\n",
       "</style>\n",
       "<table border=\"1\" class=\"dataframe\">\n",
       "  <thead>\n",
       "    <tr style=\"text-align: right;\">\n",
       "      <th></th>\n",
       "      <th>cluster</th>\n",
       "      <th>power</th>\n",
       "      <th>domain</th>\n",
       "      <th>policy_name</th>\n",
       "      <th>status</th>\n",
       "      <th>vserver</th>\n",
       "    </tr>\n",
       "  </thead>\n",
       "  <tbody>\n",
       "    <tr>\n",
       "      <th>0</th>\n",
       "      <td>alphaCloud</td>\n",
       "      <td>on</td>\n",
       "      <td>vmware.local</td>\n",
       "      <td>metricsearch</td>\n",
       "      <td>True</td>\n",
       "      <td>vmWare32</td>\n",
       "    </tr>\n",
       "    <tr>\n",
       "      <th>1</th>\n",
       "      <td>alphaCloud</td>\n",
       "      <td>off</td>\n",
       "      <td>vmware.local</td>\n",
       "      <td>metricsearch</td>\n",
       "      <td>False</td>\n",
       "      <td>vmWare04</td>\n",
       "    </tr>\n",
       "    <tr>\n",
       "      <th>2</th>\n",
       "      <td>betaCloud</td>\n",
       "      <td>on</td>\n",
       "      <td>vmware.local</td>\n",
       "      <td>metricsearch</td>\n",
       "      <td>on</td>\n",
       "      <td>vmWare20</td>\n",
       "    </tr>\n",
       "    <tr>\n",
       "      <th>3</th>\n",
       "      <td>betaCloud</td>\n",
       "      <td>on</td>\n",
       "      <td>vmware.local</td>\n",
       "      <td>metricsearch</td>\n",
       "      <td>on</td>\n",
       "      <td>vmWare06</td>\n",
       "    </tr>\n",
       "    <tr>\n",
       "      <th>4</th>\n",
       "      <td>AWS</td>\n",
       "      <td>off</td>\n",
       "      <td>acme.aws.example</td>\n",
       "      <td>metricsearch</td>\n",
       "      <td>True</td>\n",
       "      <td>AWS_vm007</td>\n",
       "    </tr>\n",
       "  </tbody>\n",
       "</table>\n",
       "</div>"
      ],
      "text/plain": [
       "      cluster power            domain   policy_name status    vserver\n",
       "0  alphaCloud    on      vmware.local  metricsearch   True   vmWare32\n",
       "1  alphaCloud   off      vmware.local  metricsearch  False   vmWare04\n",
       "2   betaCloud    on      vmware.local  metricsearch     on   vmWare20\n",
       "3   betaCloud    on      vmware.local  metricsearch     on   vmWare06\n",
       "4         AWS   off  acme.aws.example  metricsearch   True  AWS_vm007"
      ]
     },
     "execution_count": 9,
     "metadata": {},
     "output_type": "execute_result"
    }
   ],
   "source": [
    "df2"
   ]
  },
  {
   "cell_type": "code",
   "execution_count": 10,
   "id": "d282c297-283e-4545-ba08-e9be79d54b9f",
   "metadata": {
    "tags": []
   },
   "outputs": [
    {
     "data": {
      "text/plain": [
       "140720124231200"
      ]
     },
     "execution_count": 10,
     "metadata": {},
     "output_type": "execute_result"
    }
   ],
   "source": [
    "id(df2)"
   ]
  },
  {
   "cell_type": "code",
   "execution_count": 18,
   "id": "0a297325-d13f-4bf6-8184-d3023a49fd17",
   "metadata": {
    "tags": []
   },
   "outputs": [
    {
     "data": {
      "text/plain": [
       "False"
      ]
     },
     "execution_count": 18,
     "metadata": {},
     "output_type": "execute_result"
    }
   ],
   "source": [
    "mydf = pd.DataFrame(metric_data)\n",
    "mydf ['policy_name'] = mydf['policy_name'].apply(lambda x: x.lower())\n",
    "mydf\n",
    "id(mydf)\n",
    "df2 = mydf\n",
    "df2 is mydf\n",
    "df2=mydf.copy(deep=False)\n",
    "df2 is mydf"
   ]
  },
  {
   "cell_type": "code",
   "execution_count": null,
   "id": "59398f23-7568-4080-89dd-333c7bd23428",
   "metadata": {},
   "outputs": [],
   "source": []
  }
 ],
 "metadata": {
  "kernelspec": {
   "display_name": "Python 3 (ipykernel)",
   "language": "python",
   "name": "python3"
  },
  "language_info": {
   "codemirror_mode": {
    "name": "ipython",
    "version": 3
   },
   "file_extension": ".py",
   "mimetype": "text/x-python",
   "name": "python",
   "nbconvert_exporter": "python",
   "pygments_lexer": "ipython3",
   "version": "3.10.6"
  }
 },
 "nbformat": 4,
 "nbformat_minor": 5
}
