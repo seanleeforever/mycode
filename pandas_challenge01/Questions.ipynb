{
 "cells": [
  {
   "cell_type": "code",
   "execution_count": 1,
   "id": "df1c8d1c-114d-446a-9e60-fc6173ece452",
   "metadata": {
    "tags": []
   },
   "outputs": [
    {
     "name": "stdout",
     "output_type": "stream",
     "text": [
      "the id of mydf is  140273637894240 \n",
      "the id of mydf_shallow is  140273637894240\n"
     ]
    }
   ],
   "source": [
    "import pandas as pd\n",
    "# create some test data\n",
    "metric_data = [{'cluster': 'alphaCloud',\n",
    "                'power': 'on',\n",
    "                'domain': 'vmware.local',\n",
    "                'policy_name': 'MetricSEARCH',\n",
    "                'status': True,\n",
    "                'vserver': 'vmWare32'},\n",
    "                {'cluster': 'alphaCloud',\n",
    "                'power': 'off',\n",
    "                'domain': 'vmware.local',\n",
    "                'policy_name': 'MetricSEARCH',\n",
    "                'status': False,\n",
    "                'vserver': 'vmWare04'},\n",
    "                {'cluster': 'betaCloud',\n",
    "                'power': 'on',\n",
    "                'domain': 'vmware.local',\n",
    "                'policy_name': 'MetricSEARCH',\n",
    "                'status': 'on',\n",
    "                'vserver': 'vmWare20'},\n",
    "                {'cluster': 'betaCloud',\n",
    "                'power': 'on',\n",
    "                'domain': 'vmware.local',\n",
    "                'policy_name': 'MetricSEARCH',\n",
    "                'status': 'on',\n",
    "                'vserver': 'vmWare06'},\n",
    "                {'cluster': 'AWS',\n",
    "                'power': 'off',\n",
    "                'domain': 'acme.aws.example',\n",
    "                'policy_name': 'MetricSEARCH',\n",
    "                'status': True,\n",
    "                'vserver': 'AWS_vm007'}]\n",
    "\n",
    "mydf = pd.DataFrame(metric_data)\n",
    "\n",
    "mydf_shallow=mydf\n",
    "mydf is mydf_shallow\n",
    "print (\"the id of mydf is \", id(mydf),\"\\nthe id of mydf_shallow is \", id(mydf_shallow))\n"
   ]
  },
  {
   "cell_type": "code",
   "execution_count": 11,
   "id": "490b906b-dc3e-4031-a769-404493969283",
   "metadata": {
    "tags": []
   },
   "outputs": [
    {
     "name": "stdout",
     "output_type": "stream",
     "text": [
      "the id of mydf is  140273637894240 \n",
      "the id of mydf_shallow is  140273637894240\n"
     ]
    },
    {
     "data": {
      "text/html": [
       "<div>\n",
       "<style scoped>\n",
       "    .dataframe tbody tr th:only-of-type {\n",
       "        vertical-align: middle;\n",
       "    }\n",
       "\n",
       "    .dataframe tbody tr th {\n",
       "        vertical-align: top;\n",
       "    }\n",
       "\n",
       "    .dataframe thead th {\n",
       "        text-align: right;\n",
       "    }\n",
       "</style>\n",
       "<table border=\"1\" class=\"dataframe\">\n",
       "  <thead>\n",
       "    <tr style=\"text-align: right;\">\n",
       "      <th></th>\n",
       "      <th>cluster</th>\n",
       "      <th>power</th>\n",
       "      <th>domain</th>\n",
       "      <th>policy_name</th>\n",
       "      <th>status</th>\n",
       "      <th>vserver</th>\n",
       "    </tr>\n",
       "  </thead>\n",
       "  <tbody>\n",
       "    <tr>\n",
       "      <th>0</th>\n",
       "      <td>alphaCloud</td>\n",
       "      <td>on</td>\n",
       "      <td>vmware.local</td>\n",
       "      <td>metricsearch</td>\n",
       "      <td>True</td>\n",
       "      <td>vmWare32</td>\n",
       "    </tr>\n",
       "    <tr>\n",
       "      <th>1</th>\n",
       "      <td>alphaCloud</td>\n",
       "      <td>off</td>\n",
       "      <td>vmware.local</td>\n",
       "      <td>metricsearch</td>\n",
       "      <td>False</td>\n",
       "      <td>vmWare04</td>\n",
       "    </tr>\n",
       "    <tr>\n",
       "      <th>2</th>\n",
       "      <td>betaCloud</td>\n",
       "      <td>on</td>\n",
       "      <td>vmware.local</td>\n",
       "      <td>metricsearch</td>\n",
       "      <td>on</td>\n",
       "      <td>vmWare20</td>\n",
       "    </tr>\n",
       "    <tr>\n",
       "      <th>3</th>\n",
       "      <td>betaCloud</td>\n",
       "      <td>on</td>\n",
       "      <td>vmware.local</td>\n",
       "      <td>metricsearch</td>\n",
       "      <td>on</td>\n",
       "      <td>vmWare06</td>\n",
       "    </tr>\n",
       "    <tr>\n",
       "      <th>4</th>\n",
       "      <td>AWS</td>\n",
       "      <td>off</td>\n",
       "      <td>acme.aws.example</td>\n",
       "      <td>metricsearch</td>\n",
       "      <td>True</td>\n",
       "      <td>AWS_vm007</td>\n",
       "    </tr>\n",
       "  </tbody>\n",
       "</table>\n",
       "</div>"
      ],
      "text/plain": [
       "      cluster power            domain   policy_name status    vserver\n",
       "0  alphaCloud    on      vmware.local  metricsearch   True   vmWare32\n",
       "1  alphaCloud   off      vmware.local  metricsearch  False   vmWare04\n",
       "2   betaCloud    on      vmware.local  metricsearch     on   vmWare20\n",
       "3   betaCloud    on      vmware.local  metricsearch     on   vmWare06\n",
       "4         AWS   off  acme.aws.example  metricsearch   True  AWS_vm007"
      ]
     },
     "execution_count": 11,
     "metadata": {},
     "output_type": "execute_result"
    }
   ],
   "source": [
    "mydf[\"policy_name\"]= mydf['policy_name'].apply(lambda x: x.lower())\n",
    "print (\"the id of mydf is \", id(mydf),\"\\nthe id of mydf_shallow is \", id(mydf_shallow))\n"
   ]
  },
  {
   "cell_type": "code",
   "execution_count": 13,
   "id": "62779b03-1953-4cd4-a857-78b5c3d7bffc",
   "metadata": {
    "tags": []
   },
   "outputs": [
    {
     "data": {
      "text/html": [
       "<div>\n",
       "<style scoped>\n",
       "    .dataframe tbody tr th:only-of-type {\n",
       "        vertical-align: middle;\n",
       "    }\n",
       "\n",
       "    .dataframe tbody tr th {\n",
       "        vertical-align: top;\n",
       "    }\n",
       "\n",
       "    .dataframe thead th {\n",
       "        text-align: right;\n",
       "    }\n",
       "</style>\n",
       "<table border=\"1\" class=\"dataframe\">\n",
       "  <thead>\n",
       "    <tr style=\"text-align: right;\">\n",
       "      <th></th>\n",
       "      <th>cluster</th>\n",
       "      <th>power</th>\n",
       "      <th>domain</th>\n",
       "      <th>policy_name</th>\n",
       "      <th>status</th>\n",
       "      <th>vserver</th>\n",
       "    </tr>\n",
       "  </thead>\n",
       "  <tbody>\n",
       "    <tr>\n",
       "      <th>0</th>\n",
       "      <td>alphaCloud</td>\n",
       "      <td>on</td>\n",
       "      <td>vmware.local</td>\n",
       "      <td>MetricSEARCH</td>\n",
       "      <td>True</td>\n",
       "      <td>vmWare32</td>\n",
       "    </tr>\n",
       "  </tbody>\n",
       "</table>\n",
       "</div>"
      ],
      "text/plain": [
       "      cluster power        domain   policy_name  status   vserver\n",
       "0  alphaCloud    on  vmware.local  MetricSEARCH    True  vmWare32"
      ]
     },
     "execution_count": 13,
     "metadata": {},
     "output_type": "execute_result"
    }
   ],
   "source": [
    "metric_data2 = [{'cluster': 'alphaCloud',\n",
    "                'power': 'on',\n",
    "                'domain': 'vmware.local',\n",
    "                'policy_name': 'MetricSEARCH',\n",
    "                'status': True,\n",
    "                'vserver': 'vmWare32'}]\n",
    "mydf2 = pd.DataFrame(metric_data2)\n",
    "mydf2"
   ]
  },
  {
   "cell_type": "code",
   "execution_count": 20,
   "id": "dfb5cc9f-cbe3-4bba-b486-2d992e464539",
   "metadata": {
    "tags": []
   },
   "outputs": [
    {
     "name": "stdout",
     "output_type": "stream",
     "text": [
      "the id of mydf is  140272822354272 \n",
      "the id of mydf_shallow is  140273637894240\n"
     ]
    }
   ],
   "source": [
    "mydf= pd.concat([mydf,mydf2])\n",
    "mydf\n",
    "print (\"the id of mydf is \", id(mydf),\"\\nthe id of mydf_shallow is \", id(mydf_shallow))"
   ]
  },
  {
   "cell_type": "code",
   "execution_count": null,
   "id": "85c13240-b265-498c-b2d1-3d40498adb69",
   "metadata": {},
   "outputs": [],
   "source": []
  }
 ],
 "metadata": {
  "kernelspec": {
   "display_name": "Python 3 (ipykernel)",
   "language": "python",
   "name": "python3"
  },
  "language_info": {
   "codemirror_mode": {
    "name": "ipython",
    "version": 3
   },
   "file_extension": ".py",
   "mimetype": "text/x-python",
   "name": "python",
   "nbconvert_exporter": "python",
   "pygments_lexer": "ipython3",
   "version": "3.10.6"
  }
 },
 "nbformat": 4,
 "nbformat_minor": 5
}
