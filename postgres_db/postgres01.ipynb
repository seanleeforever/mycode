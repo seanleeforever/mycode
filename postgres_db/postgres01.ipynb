{
 "cells": [
  {
   "cell_type": "code",
   "execution_count": 5,
   "id": "bf0628f2-14c5-4ca1-921a-de93387776ee",
   "metadata": {
    "tags": []
   },
   "outputs": [
    {
     "name": "stdout",
     "output_type": "stream",
     "text": [
      "[]\n"
     ]
    }
   ],
   "source": [
    "# python3 -m pip install psycopg2\n",
    "import psycopg2\n",
    "\n",
    "try:\n",
    "    connect_str = \"dbname='testpython' user='sean' host='localhost' \" + \\\n",
    "                  \"password='qwerty'\"\n",
    "    \n",
    "    # use our connection values to establish a connection\n",
    "    conn = psycopg2.connect(connect_str)\n",
    "    \n",
    "    # create a psycopg2 cursor that can execute queries\n",
    "    cursor = conn.cursor()\n",
    "    \n",
    "    # create a new table with a single column called \"name\"\n",
    "    cursor.execute(\"\"\"CREATE TABLE IF NOT EXISTS tutorials (name char(40));\"\"\")\n",
    "    \n",
    "    # run a SELECT statement - no data in there, but we can try it\n",
    "    cursor.execute(\"\"\"SELECT * from tutorials\"\"\")\n",
    "    \n",
    "    conn.commit() # <--- makes sure the change is shown in the database\n",
    "    rows = cursor.fetchall()\n",
    "    print(rows)\n",
    "    cursor.close()\n",
    "    conn.close()\n",
    "    \n",
    "except Exception as e:\n",
    "    print(\"Uh oh, can't connect. Invalid dbname, user or password?\")\n",
    "    print(e)    \n",
    "\n"
   ]
  },
  {
   "cell_type": "code",
   "execution_count": 6,
   "id": "128f2dfa-4170-4f80-9dc1-a634549ff31e",
   "metadata": {},
   "outputs": [
    {
     "name": "stdout",
     "output_type": "stream",
     "text": [
      "Opened database successfully\n"
     ]
    }
   ],
   "source": [
    "# update the following if your user and password for postgresql are different\n",
    "# than what is shown below\n",
    "user = \"zach\"\n",
    "passw = \"qwerty\"\n",
    "\n",
    "# f-string defines where to connect to\n",
    "connect_str = f\"dbname='testpython' user='{user}' host='localhost' password='{passw}'\"\n",
    "\n",
    "conn = psycopg2.connect(connect_str)\n",
    "print(\"Opened database successfully\")\n"
   ]
  }
 ],
 "metadata": {
  "kernelspec": {
   "display_name": "Python 3 (ipykernel)",
   "language": "python",
   "name": "python3"
  },
  "language_info": {
   "codemirror_mode": {
    "name": "ipython",
    "version": 3
   },
   "file_extension": ".py",
   "mimetype": "text/x-python",
   "name": "python",
   "nbconvert_exporter": "python",
   "pygments_lexer": "ipython3",
   "version": "3.10.6"
  }
 },
 "nbformat": 4,
 "nbformat_minor": 5
}
