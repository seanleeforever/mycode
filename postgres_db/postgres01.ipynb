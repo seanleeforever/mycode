{
 "cells": [
  {
   "cell_type": "code",
   "execution_count": 5,
   "id": "bf0628f2-14c5-4ca1-921a-de93387776ee",
   "metadata": {
    "tags": []
   },
   "outputs": [
    {
     "name": "stdout",
     "output_type": "stream",
     "text": [
      "[]\n"
     ]
    }
   ],
   "source": [
    "# python3 -m pip install psycopg2\n",
    "import psycopg2\n",
    "\n",
    "try:\n",
    "    connect_str = \"dbname='testpython' user='sean' host='localhost' \" + \\\n",
    "                  \"password='qwerty'\"\n",
    "    \n",
    "    # use our connection values to establish a connection\n",
    "    conn = psycopg2.connect(connect_str)\n",
    "    \n",
    "    # create a psycopg2 cursor that can execute queries\n",
    "    cursor = conn.cursor()\n",
    "    \n",
    "    # create a new table with a single column called \"name\"\n",
    "    cursor.execute(\"\"\"CREATE TABLE IF NOT EXISTS tutorials (name char(40));\"\"\")\n",
    "    \n",
    "    # run a SELECT statement - no data in there, but we can try it\n",
    "    cursor.execute(\"\"\"SELECT * from tutorials\"\"\")\n",
    "    \n",
    "    conn.commit() # <--- makes sure the change is shown in the database\n",
    "    rows = cursor.fetchall()\n",
    "    print(rows)\n",
    "    cursor.close()\n",
    "    conn.close()\n",
    "    \n",
    "except Exception as e:\n",
    "    print(\"Uh oh, can't connect. Invalid dbname, user or password?\")\n",
    "    print(e)    \n",
    "\n"
   ]
  },
  {
   "cell_type": "code",
   "execution_count": 7,
   "id": "128f2dfa-4170-4f80-9dc1-a634549ff31e",
   "metadata": {},
   "outputs": [
    {
     "name": "stdout",
     "output_type": "stream",
     "text": [
      "Opened database successfully\n"
     ]
    }
   ],
   "source": [
    "# update the following if your user and password for postgresql are different\n",
    "# than what is shown below\n",
    "user = \"zach\"\n",
    "passw = \"qwerty\"\n",
    "\n",
    "# f-string defines where to connect to\n",
    "connect_str = f\"dbname='testpython' user='{user}' host='localhost' password='{passw}'\"\n",
    "\n",
    "conn = psycopg2.connect(connect_str)\n",
    "print(\"Opened database successfully\")\n"
   ]
  },
  {
   "cell_type": "code",
   "execution_count": 8,
   "id": "ecf217d4-b8e2-43bc-a08e-2faba50f201f",
   "metadata": {
    "tags": []
   },
   "outputs": [
    {
     "name": "stdout",
     "output_type": "stream",
     "text": [
      "Table created successfully\n"
     ]
    }
   ],
   "source": [
    "# create a cursor that we can issue commands through\n",
    "cursor = conn.cursor()\n",
    "\n",
    "# This is a sql based database so you'll notice many similarities\n",
    "# to working with sqlite\n",
    "cursor.execute('''CREATE TABLE IF NOT EXISTS COMPANY\n",
    " (ID INT PRIMARY KEY     NOT NULL,\n",
    " NAME           TEXT    NOT NULL,\n",
    " AGE            INT     NOT NULL,\n",
    " ADDRESS        CHAR(50),\n",
    " SALARY         REAL);''')\n",
    "print(\"Table created successfully\")\n"
   ]
  },
  {
   "cell_type": "code",
   "execution_count": 9,
   "id": "06b2e301-7503-4a11-a8a6-f8668424798c",
   "metadata": {
    "tags": []
   },
   "outputs": [
    {
     "name": "stdout",
     "output_type": "stream",
     "text": [
      "Records created successfully\n"
     ]
    }
   ],
   "source": [
    "cursor.execute(\"INSERT INTO COMPANY (ID,NAME,AGE,ADDRESS,SALARY) VALUES (1, 'Paul', 32, 'California', 20000.00 ) ON CONFLICT DO NOTHING\")\n",
    "\n",
    "cursor.execute(\"INSERT INTO COMPANY (ID,NAME,AGE,ADDRESS,SALARY) VALUES (2, 'Allen', 25, 'Texas', 15000.00 ) ON CONFLICT DO NOTHING\")\n",
    "\n",
    "cursor.execute(\"INSERT INTO COMPANY (ID,NAME,AGE,ADDRESS,SALARY) VALUES (3, 'Teddy', 23, 'Norway', 20000.00 ) ON CONFLICT DO NOTHING\")\n",
    "\n",
    "cursor.execute(\"INSERT INTO COMPANY (ID,NAME,AGE,ADDRESS,SALARY) VALUES (4, 'Mark', 25, 'Pennsylvania ', 65000.00 ) ON CONFLICT DO NOTHING\")\n",
    "\n",
    "conn.commit()\n",
    "print(\"Records created successfully\")\n"
   ]
  },
  {
   "cell_type": "code",
   "execution_count": 10,
   "id": "086a4216-c3a8-4b6e-80de-f0da951f0c54",
   "metadata": {
    "tags": []
   },
   "outputs": [
    {
     "name": "stdout",
     "output_type": "stream",
     "text": [
      "ID =  1\n",
      "NAME =  Paul\n",
      "ADDRESS =  32\n",
      "SALARY =  California                                         \n",
      "\n",
      "ID =  2\n",
      "NAME =  Allen\n",
      "ADDRESS =  25\n",
      "SALARY =  Texas                                              \n",
      "\n",
      "ID =  3\n",
      "NAME =  Teddy\n",
      "ADDRESS =  23\n",
      "SALARY =  Norway                                             \n",
      "\n",
      "ID =  4\n",
      "NAME =  Mark\n",
      "ADDRESS =  25\n",
      "SALARY =  Pennsylvania                                       \n",
      "\n",
      "Operation done successfully\n"
     ]
    }
   ],
   "source": [
    "\n",
    "cursor.execute(\"SELECT * FROM COMPANY\")\n",
    "\n",
    "selects = cursor.fetchall()\n",
    "\n",
    "#selects = cursor.execute(\"SELECT id, name, address, salary from COMPANY\")\n",
    "for row in selects:\n",
    "    print(\"ID = \", row[0])\n",
    "    print(\"NAME = \", row[1])\n",
    "    print(\"ADDRESS = \", row[2])\n",
    "    print(\"SALARY = \", row[3], \"\\n\")\n",
    "\n",
    "print(\"Operation done successfully\")\n",
    "conn.close()\n"
   ]
  },
  {
   "cell_type": "code",
   "execution_count": 11,
   "id": "1f1006c8-79a1-49a8-822b-1b3f8991e791",
   "metadata": {
    "tags": []
   },
   "outputs": [
    {
     "name": "stdout",
     "output_type": "stream",
     "text": [
      "Opened database successfully\n"
     ]
    }
   ],
   "source": [
    "# Place new data into the database\n",
    "\n",
    "# update the following if your user and password for postgresql are different\n",
    "# than what is shown below\n",
    "user = \"zach\"\n",
    "passw = \"qwerty\"\n",
    "\n",
    "# f-string defines where to connect to\n",
    "connect_str = f\"dbname='testpython' user='{user}' host='localhost' password='{passw}'\"\n",
    "\n",
    "conn = psycopg2.connect(connect_str)\n",
    "print(\"Opened database successfully\")\n",
    "\n",
    "# create a cursor that we can issue commands through\n",
    "cursor = conn.cursor()\n",
    "\n",
    "# place our new data into the database\n",
    "cursor.execute(\"INSERT INTO COMPANY (ID,NAME,AGE,ADDRESS,SALARY) VALUES (5, 'Larry', 99, 'Pennsylvania', 90000.00 ) ON CONFLICT DO NOTHING\")\n",
    "\n",
    "# commit our work (this dissolves our cursor)\n",
    "conn.commit()\n",
    "\n",
    "# close the connection\n",
    "conn.close()\n"
   ]
  },
  {
   "cell_type": "code",
   "execution_count": 12,
   "id": "95dacb3a-c2cf-42a9-a6b8-b9b71639cbef",
   "metadata": {
    "tags": []
   },
   "outputs": [
    {
     "name": "stdout",
     "output_type": "stream",
     "text": [
      "Opened database successfully\n",
      "[(5, 'Larry', 99, 'Pennsylvania                                      ', 90000.0)]\n"
     ]
    }
   ],
   "source": [
    "# update the following if your user and password for postgresql are different\n",
    "# than what is shown below\n",
    "user = \"zach\"\n",
    "passw = \"qwerty\"\n",
    "\n",
    "# f-string defines where to connect to\n",
    "connect_str = f\"dbname='testpython' user='{user}' host='localhost' password='{passw}'\"\n",
    "\n",
    "conn = psycopg2.connect(connect_str)\n",
    "print(\"Opened database successfully\")\n",
    "\n",
    "# create a cursor we can work through\n",
    "cursor = conn.cursor()\n",
    "\n",
    "# select all records where ID is 5\n",
    "cursor.execute(\"SELECT * FROM COMPANY WHERE ID = '5'\")\n",
    "\n",
    "\n",
    "new_entry = cursor.fetchall()\n",
    "print(new_entry)\n",
    "\n",
    "conn.close()\n"
   ]
  },
  {
   "cell_type": "code",
   "execution_count": null,
   "id": "6448589b-93c8-455e-b00e-6f438245e175",
   "metadata": {},
   "outputs": [],
   "source": []
  }
 ],
 "metadata": {
  "kernelspec": {
   "display_name": "Python 3 (ipykernel)",
   "language": "python",
   "name": "python3"
  },
  "language_info": {
   "codemirror_mode": {
    "name": "ipython",
    "version": 3
   },
   "file_extension": ".py",
   "mimetype": "text/x-python",
   "name": "python",
   "nbconvert_exporter": "python",
   "pygments_lexer": "ipython3",
   "version": "3.10.6"
  }
 },
 "nbformat": 4,
 "nbformat_minor": 5
}
