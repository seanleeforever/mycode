{
 "cells": [
  {
   "cell_type": "code",
   "execution_count": 12,
   "id": "2a7f4ab5-80f3-489f-94e1-4b1164238207",
   "metadata": {
    "tags": []
   },
   "outputs": [
    {
     "name": "stdout",
     "output_type": "stream",
     "text": [
      "Array A has a shape of: (3,)\n",
      "Array A has dimension: 1\n"
     ]
    },
    {
     "data": {
      "text/plain": [
       "array([2.4, 6.7, 7.9])"
      ]
     },
     "execution_count": 12,
     "metadata": {},
     "output_type": "execute_result"
    }
   ],
   "source": [
    "import numpy as np\n",
    "\n",
    "A = np.array([2.4, 6.7, 7.9])\n",
    "print(\"Array A has a shape of:\", A.shape) # shape returns a tuple of rows, cols \n",
    "print(\"Array A has dimension:\", A.ndim) # ndim returns an integer representing the dimensions\n",
    "A"
   ]
  },
  {
   "cell_type": "code",
   "execution_count": 13,
   "id": "419b0634-468b-44b8-a71e-9b65164c551f",
   "metadata": {
    "tags": []
   },
   "outputs": [
    {
     "name": "stdout",
     "output_type": "stream",
     "text": [
      "Array A has a shape of: (1, 3)\n",
      "Array A has dimension: 2\n"
     ]
    },
    {
     "data": {
      "text/plain": [
       "array([[2.4, 6.7, 7.9]])"
      ]
     },
     "execution_count": 13,
     "metadata": {},
     "output_type": "execute_result"
    }
   ],
   "source": [
    "import numpy as np\n",
    "\n",
    "A = np.array([[2.4, 6.7, 7.9]])\n",
    "print(\"Array A has a shape of:\", A.shape) # shape returns a tuple of rows, cols \n",
    "print(\"Array A has dimension:\", A.ndim) # ndim returns an integer representing the dimensions\n",
    "A"
   ]
  },
  {
   "cell_type": "code",
   "execution_count": 14,
   "id": "960cb2ee-7970-45c4-8ec8-da2ba5c932d0",
   "metadata": {
    "tags": []
   },
   "outputs": [
    {
     "data": {
      "text/plain": [
       "1.1"
      ]
     },
     "execution_count": 14,
     "metadata": {},
     "output_type": "execute_result"
    }
   ],
   "source": [
    "A = np.array([ [2.4, 6.7, 7.9], # double brackets, so this is row 0\n",
    "             [1.1, -7.8, -0.7], # row 1\n",
    "             [4.1, 12.3, 4.8]]) # row 2\n",
    "A[1,0] # index A at row 1, col 0 (can also index using chained indexing: A[1][0]) \n"
   ]
  },
  {
   "cell_type": "code",
   "execution_count": 15,
   "id": "1c3958cc-d320-4608-94f5-abee9cecb4b4",
   "metadata": {
    "tags": []
   },
   "outputs": [
    {
     "data": {
      "text/plain": [
       "array([2.4, 6.7, 7.9])"
      ]
     },
     "execution_count": 15,
     "metadata": {},
     "output_type": "execute_result"
    }
   ],
   "source": [
    "A[0,:] # grab all of row 0\n"
   ]
  },
  {
   "cell_type": "code",
   "execution_count": 17,
   "id": "419d48c3-7407-4d9c-afb4-a885c495a042",
   "metadata": {
    "tags": []
   },
   "outputs": [
    {
     "data": {
      "text/plain": [
       "array([2.4, 1.1, 4.1])"
      ]
     },
     "execution_count": 17,
     "metadata": {},
     "output_type": "execute_result"
    }
   ],
   "source": [
    "A[:,0]"
   ]
  },
  {
   "cell_type": "code",
   "execution_count": 18,
   "id": "e20d254b-ec96-4cf7-8785-146432a391ee",
   "metadata": {
    "tags": []
   },
   "outputs": [
    {
     "data": {
      "text/plain": [
       "array([[13, 14, 15],\n",
       "       [23, 24, 25],\n",
       "       [33, 34, 35]])"
      ]
     },
     "execution_count": 18,
     "metadata": {},
     "output_type": "execute_result"
    }
   ],
   "source": [
    "A = np.array([\n",
    "[11, 12, 13, 14, 15], # row 0\n",
    "[21, 22, 23, 24, 25], # row 1\n",
    "[31, 32, 33, 34, 35], # row 2\n",
    "[41, 42, 43, 44, 45], # row 3\n",
    "[51, 52, 53, 54, 55]]) # row 4\n",
    "\n",
    "A[:3, 2:] # first argument :3 slices rows 0-2, second argument 2: slices cols 2-end of array\n"
   ]
  },
  {
   "cell_type": "code",
   "execution_count": 19,
   "id": "3cc9f798-8479-4264-accd-1cb648450cfb",
   "metadata": {
    "tags": []
   },
   "outputs": [
    {
     "data": {
      "text/plain": [
       "array([[41, 42, 43, 44, 45],\n",
       "       [51, 52, 53, 54, 55]])"
      ]
     },
     "execution_count": 19,
     "metadata": {},
     "output_type": "execute_result"
    }
   ],
   "source": [
    "A[3:, :]"
   ]
  },
  {
   "cell_type": "code",
   "execution_count": 21,
   "id": "7d5a43fc-c94b-4769-bc0a-13605838ce5b",
   "metadata": {
    "tags": []
   },
   "outputs": [
    {
     "data": {
      "text/plain": [
       "array([[15],\n",
       "       [25],\n",
       "       [35],\n",
       "       [45],\n",
       "       [55]])"
      ]
     },
     "execution_count": 21,
     "metadata": {},
     "output_type": "execute_result"
    }
   ],
   "source": [
    "A[:,4:]"
   ]
  },
  {
   "cell_type": "code",
   "execution_count": 22,
   "id": "18cef4ff-6c7b-484a-b8af-c5d1b421357b",
   "metadata": {
    "tags": []
   },
   "outputs": [
    {
     "data": {
      "text/plain": [
       "array([[11, 14],\n",
       "       [31, 34],\n",
       "       [51, 54]])"
      ]
     },
     "execution_count": 22,
     "metadata": {},
     "output_type": "execute_result"
    }
   ],
   "source": [
    "A[::2, ::3] # ::2 starts at row 0 through the end of the array, skipping over every other row, and ::3 starts at col 0 through the end of the array, grabbing every third entry\n"
   ]
  },
  {
   "cell_type": "code",
   "execution_count": 25,
   "id": "ef4f991d-c252-45ed-ba68-05d21f1718f0",
   "metadata": {
    "tags": []
   },
   "outputs": [
    {
     "name": "stdout",
     "output_type": "stream",
     "text": [
      "(28,)\n",
      "1\n"
     ]
    }
   ],
   "source": [
    "X=np.arange (28)\n",
    "X\n",
    "print (X.shape)\n",
    "print (X.ndim)"
   ]
  },
  {
   "cell_type": "code",
   "execution_count": 29,
   "id": "64671d5c-aa65-430b-9038-eaef12401336",
   "metadata": {
    "tags": []
   },
   "outputs": [
    {
     "name": "stdout",
     "output_type": "stream",
     "text": [
      "(4, 7)\n",
      "2\n"
     ]
    },
    {
     "data": {
      "text/plain": [
       "array([[ 0,  1,  2,  3,  4,  5,  6],\n",
       "       [ 7,  8,  9, 10, 11, 12, 13],\n",
       "       [14, 15, 16, 17, 18, 19, 20],\n",
       "       [21, 22, 23, 24, 25, 26, 27]])"
      ]
     },
     "execution_count": 29,
     "metadata": {},
     "output_type": "execute_result"
    }
   ],
   "source": [
    "Y=X.reshape(4,7)\n",
    "print (Y.shape)\n",
    "print (Y.ndim)\n",
    "Y"
   ]
  },
  {
   "cell_type": "code",
   "execution_count": 30,
   "id": "c4d86ba0-a49f-4d79-a50c-3f0ebe704017",
   "metadata": {
    "tags": []
   },
   "outputs": [
    {
     "data": {
      "text/plain": [
       "array([[ 0,  1,  2,  3,  4,  5,  6,  7,  8,  9, 10, 11, 12, 13],\n",
       "       [14, 15, 16, 17, 18, 19, 20, 21, 22, 23, 24, 25, 26, 27]])"
      ]
     },
     "execution_count": 30,
     "metadata": {},
     "output_type": "execute_result"
    }
   ],
   "source": [
    "X.reshape(2,14)\n"
   ]
  },
  {
   "cell_type": "code",
   "execution_count": 34,
   "id": "2e637e49-cee6-4477-94d7-05c70c31c5ae",
   "metadata": {
    "tags": []
   },
   "outputs": [
    {
     "ename": "NameError",
     "evalue": "name 'pad' is not defined",
     "output_type": "error",
     "traceback": [
      "\u001b[0;31m---------------------------------------------------------------------------\u001b[0m",
      "\u001b[0;31mNameError\u001b[0m                                 Traceback (most recent call last)",
      "Cell \u001b[0;32mIn[34], line 1\u001b[0m\n\u001b[0;32m----> 1\u001b[0m \u001b[43mpad\u001b[49m (X\u001b[38;5;241m.\u001b[39mreshape(\u001b[38;5;241m5\u001b[39m,\u001b[38;5;241m5\u001b[39m))\n",
      "\u001b[0;31mNameError\u001b[0m: name 'pad' is not defined"
     ]
    }
   ],
   "source": [
    "pad (X.reshape(5,5))\n"
   ]
  },
  {
   "cell_type": "code",
   "execution_count": null,
   "id": "91b89992-7bd6-452a-a40f-b13241ecfc82",
   "metadata": {},
   "outputs": [],
   "source": []
  }
 ],
 "metadata": {
  "kernelspec": {
   "display_name": "Python 3 (ipykernel)",
   "language": "python",
   "name": "python3"
  },
  "language_info": {
   "codemirror_mode": {
    "name": "ipython",
    "version": 3
   },
   "file_extension": ".py",
   "mimetype": "text/x-python",
   "name": "python",
   "nbconvert_exporter": "python",
   "pygments_lexer": "ipython3",
   "version": "3.10.6"
  }
 },
 "nbformat": 4,
 "nbformat_minor": 5
}
